{
 "cells": [
  {
   "cell_type": "code",
   "execution_count": 26,
   "id": "15596ba6",
   "metadata": {},
   "outputs": [
    {
     "name": "stdout",
     "output_type": "stream",
     "text": [
      "Requirement already satisfied: pandas in c:\\users\\91938\\anaconda3.0\\lib\\site-packages (1.3.4)\n",
      "Requirement already satisfied: numpy in c:\\users\\91938\\anaconda3.0\\lib\\site-packages (1.20.3)\n",
      "Requirement already satisfied: matplotlib in c:\\users\\91938\\anaconda3.0\\lib\\site-packages (3.4.3)\n",
      "Requirement already satisfied: seaborn in c:\\users\\91938\\anaconda3.0\\lib\\site-packages (0.11.2)\n",
      "Requirement already satisfied: pytz>=2017.3 in c:\\users\\91938\\anaconda3.0\\lib\\site-packages (from pandas) (2021.3)\n",
      "Requirement already satisfied: python-dateutil>=2.7.3 in c:\\users\\91938\\anaconda3.0\\lib\\site-packages (from pandas) (2.8.2)\n",
      "Note: you may need to restart the kernel to use updated packages.Requirement already satisfied: pyparsing>=2.2.1 in c:\\users\\91938\\anaconda3.0\\lib\\site-packages (from matplotlib) (3.0.4)\n",
      "Requirement already satisfied: kiwisolver>=1.0.1 in c:\\users\\91938\\anaconda3.0\\lib\\site-packages (from matplotlib) (1.3.1)\n",
      "\n",
      "Requirement already satisfied: cycler>=0.10 in c:\\users\\91938\\anaconda3.0\\lib\\site-packages (from matplotlib) (0.10.0)\n",
      "Requirement already satisfied: pillow>=6.2.0 in c:\\users\\91938\\anaconda3.0\\lib\\site-packages (from matplotlib) (8.4.0)\n",
      "Requirement already satisfied: scipy>=1.0 in c:\\users\\91938\\anaconda3.0\\lib\\site-packages (from seaborn) (1.7.1)\n",
      "Requirement already satisfied: six in c:\\users\\91938\\anaconda3.0\\lib\\site-packages (from cycler>=0.10->matplotlib) (1.16.0)\n"
     ]
    }
   ],
   "source": [
    "pip install pandas numpy matplotlib seaborn"
   ]
  },
  {
   "cell_type": "code",
   "execution_count": 27,
   "id": "04d7fb68",
   "metadata": {},
   "outputs": [],
   "source": [
    "import pandas as pd\n",
    "import numpy as np\n",
    "import matplotlib.pyplot as plt\n",
    "import seaborn as sns"
   ]
  },
  {
   "cell_type": "code",
   "execution_count": 28,
   "id": "3245d22d",
   "metadata": {},
   "outputs": [],
   "source": [
    "# Setting the plot style\n",
    "sns.set(style='whitegrid')"
   ]
  },
  {
   "cell_type": "code",
   "execution_count": 29,
   "id": "0b5c3a74",
   "metadata": {},
   "outputs": [],
   "source": [
    "# Load the datasets from local files\n",
    "matches_path = r\"C:\\Users\\91938\\Desktop\\GRIP intern\\Indian Premier League\\matches.csv\"  # Update with the correct path to your downloaded matches dataset\n",
    "deliveries_path = r\"C:\\Users\\91938\\Desktop\\GRIP intern\\Indian Premier League\\deliveries.csv\"  # Update with the correct path to your downloaded deliveries dataset\n",
    "\n",
    "matches = pd.read_csv(matches_path)\n",
    "deliveries = pd.read_csv(deliveries_path)"
   ]
  },
  {
   "cell_type": "code",
   "execution_count": 30,
   "id": "584d78ce",
   "metadata": {},
   "outputs": [
    {
     "name": "stdout",
     "output_type": "stream",
     "text": [
      "Matches Dataset\n",
      "   id  season       city        date                        team1  \\\n",
      "0   1    2017  Hyderabad  2017-04-05          Sunrisers Hyderabad   \n",
      "1   2    2017       Pune  2017-04-06               Mumbai Indians   \n",
      "2   3    2017     Rajkot  2017-04-07                Gujarat Lions   \n",
      "3   4    2017     Indore  2017-04-08       Rising Pune Supergiant   \n",
      "4   5    2017  Bangalore  2017-04-08  Royal Challengers Bangalore   \n",
      "\n",
      "                         team2                  toss_winner toss_decision  \\\n",
      "0  Royal Challengers Bangalore  Royal Challengers Bangalore         field   \n",
      "1       Rising Pune Supergiant       Rising Pune Supergiant         field   \n",
      "2        Kolkata Knight Riders        Kolkata Knight Riders         field   \n",
      "3              Kings XI Punjab              Kings XI Punjab         field   \n",
      "4             Delhi Daredevils  Royal Challengers Bangalore           bat   \n",
      "\n",
      "   result  dl_applied                       winner  win_by_runs  \\\n",
      "0  normal           0          Sunrisers Hyderabad           35   \n",
      "1  normal           0       Rising Pune Supergiant            0   \n",
      "2  normal           0        Kolkata Knight Riders            0   \n",
      "3  normal           0              Kings XI Punjab            0   \n",
      "4  normal           0  Royal Challengers Bangalore           15   \n",
      "\n",
      "   win_by_wickets player_of_match                                      venue  \\\n",
      "0               0    Yuvraj Singh  Rajiv Gandhi International Stadium, Uppal   \n",
      "1               7       SPD Smith    Maharashtra Cricket Association Stadium   \n",
      "2              10         CA Lynn     Saurashtra Cricket Association Stadium   \n",
      "3               6      GJ Maxwell                     Holkar Cricket Stadium   \n",
      "4               0       KM Jadhav                      M Chinnaswamy Stadium   \n",
      "\n",
      "          umpire1        umpire2 umpire3  \n",
      "0     AY Dandekar       NJ Llong     NaN  \n",
      "1  A Nand Kishore         S Ravi     NaN  \n",
      "2     Nitin Menon      CK Nandan     NaN  \n",
      "3    AK Chaudhary  C Shamshuddin     NaN  \n",
      "4             NaN            NaN     NaN  \n",
      "\n",
      "Deliveries Dataset\n",
      "   match_id  inning         batting_team                 bowling_team  over  \\\n",
      "0         1       1  Sunrisers Hyderabad  Royal Challengers Bangalore     1   \n",
      "1         1       1  Sunrisers Hyderabad  Royal Challengers Bangalore     1   \n",
      "2         1       1  Sunrisers Hyderabad  Royal Challengers Bangalore     1   \n",
      "3         1       1  Sunrisers Hyderabad  Royal Challengers Bangalore     1   \n",
      "4         1       1  Sunrisers Hyderabad  Royal Challengers Bangalore     1   \n",
      "\n",
      "   ball    batsman non_striker    bowler  is_super_over  ...  bye_runs  \\\n",
      "0     1  DA Warner    S Dhawan  TS Mills              0  ...         0   \n",
      "1     2  DA Warner    S Dhawan  TS Mills              0  ...         0   \n",
      "2     3  DA Warner    S Dhawan  TS Mills              0  ...         0   \n",
      "3     4  DA Warner    S Dhawan  TS Mills              0  ...         0   \n",
      "4     5  DA Warner    S Dhawan  TS Mills              0  ...         0   \n",
      "\n",
      "   legbye_runs  noball_runs  penalty_runs  batsman_runs  extra_runs  \\\n",
      "0            0            0             0             0           0   \n",
      "1            0            0             0             0           0   \n",
      "2            0            0             0             4           0   \n",
      "3            0            0             0             0           0   \n",
      "4            0            0             0             0           2   \n",
      "\n",
      "   total_runs  player_dismissed dismissal_kind fielder  \n",
      "0           0               NaN            NaN     NaN  \n",
      "1           0               NaN            NaN     NaN  \n",
      "2           4               NaN            NaN     NaN  \n",
      "3           0               NaN            NaN     NaN  \n",
      "4           2               NaN            NaN     NaN  \n",
      "\n",
      "[5 rows x 21 columns]\n"
     ]
    }
   ],
   "source": [
    "# Display the first few rows of the datasets\n",
    "print(\"Matches Dataset\")\n",
    "print(matches.head())\n",
    "print(\"\\nDeliveries Dataset\")\n",
    "print(deliveries.head())"
   ]
  },
  {
   "cell_type": "code",
   "execution_count": 31,
   "id": "0ffbc98f",
   "metadata": {},
   "outputs": [
    {
     "name": "stdout",
     "output_type": "stream",
     "text": [
      "Missing values in matches dataset:\n",
      "id                   0\n",
      "season               0\n",
      "city                 7\n",
      "date                 0\n",
      "team1                0\n",
      "team2                0\n",
      "toss_winner          0\n",
      "toss_decision        0\n",
      "result               0\n",
      "dl_applied           0\n",
      "winner               4\n",
      "win_by_runs          0\n",
      "win_by_wickets       0\n",
      "player_of_match      4\n",
      "venue                0\n",
      "umpire1              2\n",
      "umpire2              2\n",
      "umpire3            637\n",
      "dtype: int64\n"
     ]
    }
   ],
   "source": [
    "# Check for missing values in matches dataset\n",
    "print(\"Missing values in matches dataset:\")\n",
    "print(matches.isnull().sum())"
   ]
  },
  {
   "cell_type": "code",
   "execution_count": 32,
   "id": "5032e688",
   "metadata": {},
   "outputs": [],
   "source": [
    "# Handle missing values in matches dataset if necessary\n",
    "matches.dropna(inplace=True)"
   ]
  },
  {
   "cell_type": "code",
   "execution_count": 33,
   "id": "e457a43d",
   "metadata": {},
   "outputs": [
    {
     "name": "stdout",
     "output_type": "stream",
     "text": [
      "Missing values in deliveries dataset:\n",
      "match_id                 0\n",
      "inning                   0\n",
      "batting_team             0\n",
      "bowling_team             0\n",
      "over                     0\n",
      "ball                     0\n",
      "batsman                  0\n",
      "non_striker              0\n",
      "bowler                   0\n",
      "is_super_over            0\n",
      "wide_runs                0\n",
      "bye_runs                 0\n",
      "legbye_runs              0\n",
      "noball_runs              0\n",
      "penalty_runs             0\n",
      "batsman_runs             0\n",
      "extra_runs               0\n",
      "total_runs               0\n",
      "player_dismissed    170244\n",
      "dismissal_kind      170244\n",
      "fielder             172630\n",
      "dtype: int64\n"
     ]
    }
   ],
   "source": [
    "# Check for missing values in deliveries dataset\n",
    "print(\"Missing values in deliveries dataset:\")\n",
    "print(deliveries.isnull().sum())"
   ]
  },
  {
   "cell_type": "code",
   "execution_count": 34,
   "id": "7c3ce938",
   "metadata": {},
   "outputs": [],
   "source": [
    "# Handle missing values in deliveries dataset if necessary\n",
    "deliveries.dropna(inplace=True)"
   ]
  },
  {
   "cell_type": "code",
   "execution_count": 35,
   "id": "cf0d182c",
   "metadata": {},
   "outputs": [
    {
     "name": "stdout",
     "output_type": "stream",
     "text": [
      "<class 'pandas.core.frame.DataFrame'>\n",
      "Int64Index: 118 entries, 636 to 755\n",
      "Data columns (total 18 columns):\n",
      " #   Column           Non-Null Count  Dtype \n",
      "---  ------           --------------  ----- \n",
      " 0   id               118 non-null    int64 \n",
      " 1   season           118 non-null    int64 \n",
      " 2   city             118 non-null    object\n",
      " 3   date             118 non-null    object\n",
      " 4   team1            118 non-null    object\n",
      " 5   team2            118 non-null    object\n",
      " 6   toss_winner      118 non-null    object\n",
      " 7   toss_decision    118 non-null    object\n",
      " 8   result           118 non-null    object\n",
      " 9   dl_applied       118 non-null    int64 \n",
      " 10  winner           118 non-null    object\n",
      " 11  win_by_runs      118 non-null    int64 \n",
      " 12  win_by_wickets   118 non-null    int64 \n",
      " 13  player_of_match  118 non-null    object\n",
      " 14  venue            118 non-null    object\n",
      " 15  umpire1          118 non-null    object\n",
      " 16  umpire2          118 non-null    object\n",
      " 17  umpire3          118 non-null    object\n",
      "dtypes: int64(5), object(13)\n",
      "memory usage: 17.5+ KB\n"
     ]
    }
   ],
   "source": [
    "# Basic information about the matches dataset\n",
    "matches.info()"
   ]
  },
  {
   "cell_type": "code",
   "execution_count": 36,
   "id": "ebbc3364",
   "metadata": {},
   "outputs": [
    {
     "data": {
      "text/html": [
       "<div>\n",
       "<style scoped>\n",
       "    .dataframe tbody tr th:only-of-type {\n",
       "        vertical-align: middle;\n",
       "    }\n",
       "\n",
       "    .dataframe tbody tr th {\n",
       "        vertical-align: top;\n",
       "    }\n",
       "\n",
       "    .dataframe thead th {\n",
       "        text-align: right;\n",
       "    }\n",
       "</style>\n",
       "<table border=\"1\" class=\"dataframe\">\n",
       "  <thead>\n",
       "    <tr style=\"text-align: right;\">\n",
       "      <th></th>\n",
       "      <th>id</th>\n",
       "      <th>season</th>\n",
       "      <th>dl_applied</th>\n",
       "      <th>win_by_runs</th>\n",
       "      <th>win_by_wickets</th>\n",
       "    </tr>\n",
       "  </thead>\n",
       "  <tbody>\n",
       "    <tr>\n",
       "      <th>count</th>\n",
       "      <td>118.000000</td>\n",
       "      <td>118.000000</td>\n",
       "      <td>118.000000</td>\n",
       "      <td>118.000000</td>\n",
       "      <td>118.000000</td>\n",
       "    </tr>\n",
       "    <tr>\n",
       "      <th>mean</th>\n",
       "      <td>9572.610169</td>\n",
       "      <td>2018.491525</td>\n",
       "      <td>0.025424</td>\n",
       "      <td>11.355932</td>\n",
       "      <td>3.271186</td>\n",
       "    </tr>\n",
       "    <tr>\n",
       "      <th>std</th>\n",
       "      <td>1685.654201</td>\n",
       "      <td>0.502060</td>\n",
       "      <td>0.158080</td>\n",
       "      <td>21.090981</td>\n",
       "      <td>3.233534</td>\n",
       "    </tr>\n",
       "    <tr>\n",
       "      <th>min</th>\n",
       "      <td>7894.000000</td>\n",
       "      <td>2018.000000</td>\n",
       "      <td>0.000000</td>\n",
       "      <td>0.000000</td>\n",
       "      <td>0.000000</td>\n",
       "    </tr>\n",
       "    <tr>\n",
       "      <th>25%</th>\n",
       "      <td>7923.250000</td>\n",
       "      <td>2018.000000</td>\n",
       "      <td>0.000000</td>\n",
       "      <td>0.000000</td>\n",
       "      <td>0.000000</td>\n",
       "    </tr>\n",
       "    <tr>\n",
       "      <th>50%</th>\n",
       "      <td>7952.500000</td>\n",
       "      <td>2018.000000</td>\n",
       "      <td>0.000000</td>\n",
       "      <td>0.000000</td>\n",
       "      <td>4.000000</td>\n",
       "    </tr>\n",
       "    <tr>\n",
       "      <th>75%</th>\n",
       "      <td>11319.750000</td>\n",
       "      <td>2019.000000</td>\n",
       "      <td>0.000000</td>\n",
       "      <td>14.000000</td>\n",
       "      <td>6.000000</td>\n",
       "    </tr>\n",
       "    <tr>\n",
       "      <th>max</th>\n",
       "      <td>11415.000000</td>\n",
       "      <td>2019.000000</td>\n",
       "      <td>1.000000</td>\n",
       "      <td>118.000000</td>\n",
       "      <td>10.000000</td>\n",
       "    </tr>\n",
       "  </tbody>\n",
       "</table>\n",
       "</div>"
      ],
      "text/plain": [
       "                 id       season  dl_applied  win_by_runs  win_by_wickets\n",
       "count    118.000000   118.000000  118.000000   118.000000      118.000000\n",
       "mean    9572.610169  2018.491525    0.025424    11.355932        3.271186\n",
       "std     1685.654201     0.502060    0.158080    21.090981        3.233534\n",
       "min     7894.000000  2018.000000    0.000000     0.000000        0.000000\n",
       "25%     7923.250000  2018.000000    0.000000     0.000000        0.000000\n",
       "50%     7952.500000  2018.000000    0.000000     0.000000        4.000000\n",
       "75%    11319.750000  2019.000000    0.000000    14.000000        6.000000\n",
       "max    11415.000000  2019.000000    1.000000   118.000000       10.000000"
      ]
     },
     "execution_count": 36,
     "metadata": {},
     "output_type": "execute_result"
    }
   ],
   "source": [
    "# Statistical summary of the matches dataset\n",
    "matches.describe()"
   ]
  },
  {
   "cell_type": "code",
   "execution_count": 38,
   "id": "f5d7ea56",
   "metadata": {},
   "outputs": [
    {
     "data": {
      "image/png": "[encoded data removed]",
      "text/plain": [
       "<Figure size 720x432 with 1 Axes>"
      ]
     },
     "metadata": {},
     "output_type": "display_data"
    }
   ],
   "source": [
    "# Number of wins for each team\n",
    "wins_per_team = matches['winner'].value_counts()\n",
    "plt.figure(figsize=(10, 6))\n",
    "sns.barplot(y=wins_per_team.index, x=wins_per_team.values, palette='viridis')\n",
    "plt.title('Number of Wins per Team')\n",
    "plt.xlabel('Number of Wins')\n",
    "plt.ylabel('Teams')\n",
    "plt.show()"
   ]
  },
  {
   "cell_type": "code",
   "execution_count": 39,
   "id": "2f57254b",
   "metadata": {},
   "outputs": [
    {
     "data": {
      "image/png": "[encoded data removed]",
      "text/plain": [
       "<Figure size 720x432 with 1 Axes>"
      ]
     },
     "metadata": {},
     "output_type": "display_data"
    }
   ],
   "source": [
    "# Number of Player of the Match awards for each player\n",
    "player_of_match_awards = matches['player_of_match'].value_counts().head(10)\n",
    "plt.figure(figsize=(10, 6))\n",
    "sns.barplot(y=player_of_match_awards.index, x=player_of_match_awards.values, palette='plasma')\n",
    "plt.title('Top 10 Players with Most Player of the Match Awards')\n",
    "plt.xlabel('Number of Awards')\n",
    "plt.ylabel('Players')\n",
    "plt.show()"
   ]
  },
  {
   "cell_type": "code",
   "execution_count": 40,
   "id": "921dbce3",
   "metadata": {},
   "outputs": [
    {
     "data": {
      "image/png": "[encoded data removed]",
      "text/plain": [
       "<Figure size 432x432 with 1 Axes>"
      ]
     },
     "metadata": {},
     "output_type": "display_data"
    }
   ],
   "source": [
    "# Toss decision impact\n",
    "toss_decision = matches['toss_decision'].value_counts()\n",
    "plt.figure(figsize=(6, 6))\n",
    "sns.barplot(x=toss_decision.index, y=toss_decision.values, palette='coolwarm')\n",
    "plt.title('Toss Decision (Field/Bat)')\n",
    "plt.xlabel('Toss Decision')\n",
    "plt.ylabel('Count')\n",
    "plt.show()"
   ]
  },
  {
   "cell_type": "code",
   "execution_count": 41,
   "id": "e99947cf",
   "metadata": {},
   "outputs": [
    {
     "name": "stderr",
     "output_type": "stream",
     "text": [
      "C:\\Users\\91938\\anaconda3.0\\lib\\site-packages\\seaborn\\_decorators.py:36: FutureWarning:\n",
      "\n",
      "Pass the following variable as a keyword arg: x. From version 0.12, the only valid positional argument will be `data`, and passing other arguments without an explicit keyword will result in an error or misinterpretation.\n",
      "\n"
     ]
    },
    {
     "data": {
      "image/png": "[encoded data removed]",
      "text/plain": [
       "<Figure size 432x432 with 1 Axes>"
      ]
     },
     "metadata": {},
     "output_type": "display_data"
    }
   ],
   "source": [
    "# Toss winner and match winner correlation\n",
    "toss_win_match_win = matches['toss_winner'] == matches['winner']\n",
    "plt.figure(figsize=(6, 6))\n",
    "sns.countplot(toss_win_match_win)\n",
    "plt.title('Did the Toss Winner also Win the Match?')\n",
    "plt.xlabel('Toss Winner = Match Winner')\n",
    "plt.ylabel('Count')\n",
    "plt.show()"
   ]
  },
  {
   "cell_type": "code",
   "execution_count": 42,
   "id": "09cc1402",
   "metadata": {},
   "outputs": [
    {
     "name": "stdout",
     "output_type": "stream",
     "text": [
      "<class 'pandas.core.frame.DataFrame'>\n",
      "Int64Index: 6448 entries, 11 to 179075\n",
      "Data columns (total 21 columns):\n",
      " #   Column            Non-Null Count  Dtype \n",
      "---  ------            --------------  ----- \n",
      " 0   match_id          6448 non-null   int64 \n",
      " 1   inning            6448 non-null   int64 \n",
      " 2   batting_team      6448 non-null   object\n",
      " 3   bowling_team      6448 non-null   object\n",
      " 4   over              6448 non-null   int64 \n",
      " 5   ball              6448 non-null   int64 \n",
      " 6   batsman           6448 non-null   object\n",
      " 7   non_striker       6448 non-null   object\n",
      " 8   bowler            6448 non-null   object\n",
      " 9   is_super_over     6448 non-null   int64 \n",
      " 10  wide_runs         6448 non-null   int64 \n",
      " 11  bye_runs          6448 non-null   int64 \n",
      " 12  legbye_runs       6448 non-null   int64 \n",
      " 13  noball_runs       6448 non-null   int64 \n",
      " 14  penalty_runs      6448 non-null   int64 \n",
      " 15  batsman_runs      6448 non-null   int64 \n",
      " 16  extra_runs        6448 non-null   int64 \n",
      " 17  total_runs        6448 non-null   int64 \n",
      " 18  player_dismissed  6448 non-null   object\n",
      " 19  dismissal_kind    6448 non-null   object\n",
      " 20  fielder           6448 non-null   object\n",
      "dtypes: int64(13), object(8)\n",
      "memory usage: 1.1+ MB\n"
     ]
    }
   ],
   "source": [
    "# Basic information about the deliveries dataset\n",
    "deliveries.info()"
   ]
  },
  {
   "cell_type": "code",
   "execution_count": 43,
   "id": "6f575d81",
   "metadata": {},
   "outputs": [
    {
     "data": {
      "text/html": [
       "<div>\n",
       "<style scoped>\n",
       "    .dataframe tbody tr th:only-of-type {\n",
       "        vertical-align: middle;\n",
       "    }\n",
       "\n",
       "    .dataframe tbody tr th {\n",
       "        vertical-align: top;\n",
       "    }\n",
       "\n",
       "    .dataframe thead th {\n",
       "        text-align: right;\n",
       "    }\n",
       "</style>\n",
       "<table border=\"1\" class=\"dataframe\">\n",
       "  <thead>\n",
       "    <tr style=\"text-align: right;\">\n",
       "      <th></th>\n",
       "      <th>match_id</th>\n",
       "      <th>inning</th>\n",
       "      <th>over</th>\n",
       "      <th>ball</th>\n",
       "      <th>is_super_over</th>\n",
       "      <th>wide_runs</th>\n",
       "      <th>bye_runs</th>\n",
       "      <th>legbye_runs</th>\n",
       "      <th>noball_runs</th>\n",
       "      <th>penalty_runs</th>\n",
       "      <th>batsman_runs</th>\n",
       "      <th>extra_runs</th>\n",
       "      <th>total_runs</th>\n",
       "    </tr>\n",
       "  </thead>\n",
       "  <tbody>\n",
       "    <tr>\n",
       "      <th>count</th>\n",
       "      <td>6448.000000</td>\n",
       "      <td>6448.000000</td>\n",
       "      <td>6448.000000</td>\n",
       "      <td>6448.000000</td>\n",
       "      <td>6448.000000</td>\n",
       "      <td>6448.000000</td>\n",
       "      <td>6448.0</td>\n",
       "      <td>6448.00000</td>\n",
       "      <td>6448.000000</td>\n",
       "      <td>6448.0</td>\n",
       "      <td>6448.000000</td>\n",
       "      <td>6448.000000</td>\n",
       "      <td>6448.000000</td>\n",
       "    </tr>\n",
       "    <tr>\n",
       "      <th>mean</th>\n",
       "      <td>1865.613834</td>\n",
       "      <td>1.473635</td>\n",
       "      <td>12.175713</td>\n",
       "      <td>3.640199</td>\n",
       "      <td>0.001241</td>\n",
       "      <td>0.004498</td>\n",
       "      <td>0.0</td>\n",
       "      <td>0.00031</td>\n",
       "      <td>0.000465</td>\n",
       "      <td>0.0</td>\n",
       "      <td>0.045906</td>\n",
       "      <td>0.005273</td>\n",
       "      <td>0.051179</td>\n",
       "    </tr>\n",
       "    <tr>\n",
       "      <th>std</th>\n",
       "      <td>3527.570149</td>\n",
       "      <td>0.503057</td>\n",
       "      <td>5.981590</td>\n",
       "      <td>1.788285</td>\n",
       "      <td>0.035204</td>\n",
       "      <td>0.066918</td>\n",
       "      <td>0.0</td>\n",
       "      <td>0.01761</td>\n",
       "      <td>0.021567</td>\n",
       "      <td>0.0</td>\n",
       "      <td>0.218719</td>\n",
       "      <td>0.072429</td>\n",
       "      <td>0.230695</td>\n",
       "    </tr>\n",
       "    <tr>\n",
       "      <th>min</th>\n",
       "      <td>1.000000</td>\n",
       "      <td>1.000000</td>\n",
       "      <td>1.000000</td>\n",
       "      <td>1.000000</td>\n",
       "      <td>0.000000</td>\n",
       "      <td>0.000000</td>\n",
       "      <td>0.0</td>\n",
       "      <td>0.00000</td>\n",
       "      <td>0.000000</td>\n",
       "      <td>0.0</td>\n",
       "      <td>0.000000</td>\n",
       "      <td>0.000000</td>\n",
       "      <td>0.000000</td>\n",
       "    </tr>\n",
       "    <tr>\n",
       "      <th>25%</th>\n",
       "      <td>186.000000</td>\n",
       "      <td>1.000000</td>\n",
       "      <td>7.000000</td>\n",
       "      <td>2.000000</td>\n",
       "      <td>0.000000</td>\n",
       "      <td>0.000000</td>\n",
       "      <td>0.0</td>\n",
       "      <td>0.00000</td>\n",
       "      <td>0.000000</td>\n",
       "      <td>0.0</td>\n",
       "      <td>0.000000</td>\n",
       "      <td>0.000000</td>\n",
       "      <td>0.000000</td>\n",
       "    </tr>\n",
       "    <tr>\n",
       "      <th>50%</th>\n",
       "      <td>380.000000</td>\n",
       "      <td>1.000000</td>\n",
       "      <td>13.000000</td>\n",
       "      <td>4.000000</td>\n",
       "      <td>0.000000</td>\n",
       "      <td>0.000000</td>\n",
       "      <td>0.0</td>\n",
       "      <td>0.00000</td>\n",
       "      <td>0.000000</td>\n",
       "      <td>0.0</td>\n",
       "      <td>0.000000</td>\n",
       "      <td>0.000000</td>\n",
       "      <td>0.000000</td>\n",
       "    </tr>\n",
       "    <tr>\n",
       "      <th>75%</th>\n",
       "      <td>573.000000</td>\n",
       "      <td>2.000000</td>\n",
       "      <td>18.000000</td>\n",
       "      <td>5.000000</td>\n",
       "      <td>0.000000</td>\n",
       "      <td>0.000000</td>\n",
       "      <td>0.0</td>\n",
       "      <td>0.00000</td>\n",
       "      <td>0.000000</td>\n",
       "      <td>0.0</td>\n",
       "      <td>0.000000</td>\n",
       "      <td>0.000000</td>\n",
       "      <td>0.000000</td>\n",
       "    </tr>\n",
       "    <tr>\n",
       "      <th>max</th>\n",
       "      <td>11415.000000</td>\n",
       "      <td>4.000000</td>\n",
       "      <td>20.000000</td>\n",
       "      <td>9.000000</td>\n",
       "      <td>1.000000</td>\n",
       "      <td>1.000000</td>\n",
       "      <td>0.0</td>\n",
       "      <td>1.00000</td>\n",
       "      <td>1.000000</td>\n",
       "      <td>0.0</td>\n",
       "      <td>2.000000</td>\n",
       "      <td>1.000000</td>\n",
       "      <td>2.000000</td>\n",
       "    </tr>\n",
       "  </tbody>\n",
       "</table>\n",
       "</div>"
      ],
      "text/plain": [
       "           match_id       inning         over         ball  is_super_over  \\\n",
       "count   6448.000000  6448.000000  6448.000000  6448.000000    6448.000000   \n",
       "mean    1865.613834     1.473635    12.175713     3.640199       0.001241   \n",
       "std     3527.570149     0.503057     5.981590     1.788285       0.035204   \n",
       "min        1.000000     1.000000     1.000000     1.000000       0.000000   \n",
       "25%      186.000000     1.000000     7.000000     2.000000       0.000000   \n",
       "50%      380.000000     1.000000    13.000000     4.000000       0.000000   \n",
       "75%      573.000000     2.000000    18.000000     5.000000       0.000000   \n",
       "max    11415.000000     4.000000    20.000000     9.000000       1.000000   \n",
       "\n",
       "         wide_runs  bye_runs  legbye_runs  noball_runs  penalty_runs  \\\n",
       "count  6448.000000    6448.0   6448.00000  6448.000000        6448.0   \n",
       "mean      0.004498       0.0      0.00031     0.000465           0.0   \n",
       "std       0.066918       0.0      0.01761     0.021567           0.0   \n",
       "min       0.000000       0.0      0.00000     0.000000           0.0   \n",
       "25%       0.000000       0.0      0.00000     0.000000           0.0   \n",
       "50%       0.000000       0.0      0.00000     0.000000           0.0   \n",
       "75%       0.000000       0.0      0.00000     0.000000           0.0   \n",
       "max       1.000000       0.0      1.00000     1.000000           0.0   \n",
       "\n",
       "       batsman_runs   extra_runs   total_runs  \n",
       "count   6448.000000  6448.000000  6448.000000  \n",
       "mean       0.045906     0.005273     0.051179  \n",
       "std        0.218719     0.072429     0.230695  \n",
       "min        0.000000     0.000000     0.000000  \n",
       "25%        0.000000     0.000000     0.000000  \n",
       "50%        0.000000     0.000000     0.000000  \n",
       "75%        0.000000     0.000000     0.000000  \n",
       "max        2.000000     1.000000     2.000000  "
      ]
     },
     "execution_count": 43,
     "metadata": {},
     "output_type": "execute_result"
    }
   ],
   "source": [
    "# Statistical summary of the deliveries dataset\n",
    "deliveries.describe()"
   ]
  },
  {
   "cell_type": "code",
   "execution_count": 44,
   "id": "5bd3cdd5",
   "metadata": {},
   "outputs": [
    {
     "data": {
      "image/png": "[encoded data removed]",
      "text/plain": [
       "<Figure size 720x432 with 1 Axes>"
      ]
     },
     "metadata": {},
     "output_type": "display_data"
    }
   ],
   "source": [
    "# Total runs scored by each batsman\n",
    "total_runs = deliveries.groupby('batsman')['batsman_runs'].sum().sort_values(ascending=False).head(10)\n",
    "plt.figure(figsize=(10, 6))\n",
    "sns.barplot(y=total_runs.index, x=total_runs.values, palette='inferno')\n",
    "plt.title('Top 10 Batsmen by Total Runs')\n",
    "plt.xlabel('Total Runs')\n",
    "plt.ylabel('Batsmen')\n",
    "plt.show()"
   ]
  },
  {
   "cell_type": "code",
   "execution_count": 45,
   "id": "1d4e73c6",
   "metadata": {},
   "outputs": [
    {
     "data": {
      "image/png": "[encoded data removed]",
      "text/plain": [
       "<Figure size 720x432 with 1 Axes>"
      ]
     },
     "metadata": {},
     "output_type": "display_data"
    }
   ],
   "source": [
    "# Total wickets taken by each bowler\n",
    "total_wickets = deliveries[deliveries['dismissal_kind'].notnull() & (deliveries['dismissal_kind'] != 'run out')]\n",
    "total_wickets = total_wickets.groupby('bowler')['dismissal_kind'].count().sort_values(ascending=False).head(10)\n",
    "plt.figure(figsize=(10, 6))\n",
    "sns.barplot(y=total_wickets.index, x=total_wickets.values, palette='magma')\n",
    "plt.title('Top 10 Bowlers by Total Wickets')\n",
    "plt.xlabel('Total Wickets')\n",
    "plt.ylabel('Bowlers')\n",
    "plt.show()"
   ]
  },
  {
   "cell_type": "code",
   "execution_count": 46,
   "id": "959df4ba",
   "metadata": {},
   "outputs": [
    {
     "name": "stdout",
     "output_type": "stream",
     "text": [
      "Based on the analysis, we recommend endorsing players like Virat Kohli and AB de Villiers for their outstanding batting performances. Bowlers like Lasith Malinga and Amit Mishra, who have high wicket counts, are also strong candidates for endorsements. Teams like Mumbai Indians and Chennai Super Kings, with their high win rates, are ideal for team endorsements.\n"
     ]
    }
   ],
   "source": [
    "# Recommendations (this is just an example based on hypothetical analysis)\n",
    "print(\"Based on the analysis, we recommend endorsing players like Virat Kohli and AB de Villiers for their outstanding batting performances. Bowlers like Lasith Malinga and Amit Mishra, who have high wicket counts, are also strong candidates for endorsements. Teams like Mumbai Indians and Chennai Super Kings, with their high win rates, are ideal for team endorsements.\")\n"
   ]
  },
  {
   "cell_type": "code",
   "execution_count": 47,
   "id": "3428d7f8",
   "metadata": {},
   "outputs": [],
   "source": [
    "import pandas as pd\n",
    "import plotly.express as px\n",
    "from dash import Dash, dcc, html\n",
    "import dash_bootstrap_components as dbc"
   ]
  },
  {
   "cell_type": "code",
   "execution_count": 48,
   "id": "ff396fc6",
   "metadata": {},
   "outputs": [],
   "source": [
    "# Load the datasets\n",
    "matches = pd.read_csv(r\"C:\\Users\\91938\\Desktop\\GRIP intern\\Indian Premier League\\matches.csv\")\n",
    "deliveries = pd.read_csv(r\"C:\\Users\\91938\\Desktop\\GRIP intern\\Indian Premier League\\deliveries.csv\")"
   ]
  },
  {
   "cell_type": "code",
   "execution_count": 49,
   "id": "e0103b13",
   "metadata": {},
   "outputs": [],
   "source": [
    "# Initialize the Dash app\n",
    "app = Dash(__name__, external_stylesheets=[dbc.themes.BOOTSTRAP])"
   ]
  },
  {
   "cell_type": "code",
   "execution_count": 51,
   "id": "6cdc8187",
   "metadata": {},
   "outputs": [
    {
     "data": {
      "text/html": [
       "\n",
       "        <iframe\n",
       "            width=\"100%\"\n",
       "            height=\"650\"\n",
       "            src=\"http://127.0.0.1:8051/\"\n",
       "            frameborder=\"0\"\n",
       "            allowfullscreen\n",
       "            \n",
       "        ></iframe>\n",
       "        "
      ],
      "text/plain": [
       "<IPython.lib.display.IFrame at 0x226ad797ac0>"
      ]
     },
     "metadata": {},
     "output_type": "display_data"
    }
   ],
   "source": [
    "import pandas as pd\n",
    "import plotly.express as px\n",
    "from dash import Dash, dcc, html\n",
    "import dash_bootstrap_components as dbc\n",
    "\n",
    "# Load the datasets\n",
    "matches = pd.read_csv(r\"C:\\Users\\91938\\Desktop\\GRIP intern\\Indian Premier League\\matches.csv\")\n",
    "deliveries = pd.read_csv(r\"C:\\Users\\91938\\Desktop\\GRIP intern\\Indian Premier League\\deliveries.csv\")\n",
    "\n",
    "# Initialize the Dash app\n",
    "app = Dash(__name__, external_stylesheets=[dbc.themes.BOOTSTRAP])\n",
    "\n",
    "# Create visualizations\n",
    "# Wins per team\n",
    "wins_per_team = matches['winner'].value_counts().reset_index()\n",
    "fig_wins = px.bar(wins_per_team, x='index', y='winner', labels={'index': 'Team', 'winner': 'Wins'}, title='Number of Wins per Team')\n",
    "\n",
    "# Player of the match awards\n",
    "player_of_match_awards = matches['player_of_match'].value_counts().head(10).reset_index()\n",
    "fig_player_of_match = px.bar(player_of_match_awards, x='index', y='player_of_match', labels={'index': 'Player', 'player_of_match': 'Awards'}, title='Top 10 Players with Most Player of the Match Awards')\n",
    "\n",
    "# Toss decision impact\n",
    "toss_decision = matches['toss_decision'].value_counts().reset_index()\n",
    "fig_toss_decision = px.bar(toss_decision, x='index', y='toss_decision', labels={'index': 'Toss Decision', 'toss_decision': 'Count'}, title='Toss Decision (Field/Bat)')\n",
    "\n",
    "# Top 10 batsmen by total runs\n",
    "total_runs = deliveries.groupby('batsman')['batsman_runs'].sum().sort_values(ascending=False).head(10).reset_index()\n",
    "fig_batsmen = px.bar(total_runs, x='batsman', y='batsman_runs', labels={'batsman': 'Batsman', 'batsman_runs': 'Total Runs'}, title='Top 10 Batsmen by Total Runs')\n",
    "\n",
    "# Top 10 bowlers by total wickets\n",
    "total_wickets = deliveries[deliveries['dismissal_kind'].notnull() & (deliveries['dismissal_kind'] != 'run out')]\n",
    "total_wickets = total_wickets.groupby('bowler')['dismissal_kind'].count().sort_values(ascending=False).head(10).reset_index()\n",
    "fig_bowlers = px.bar(total_wickets, x='bowler', y='dismissal_kind', labels={'bowler': 'Bowler', 'dismissal_kind': 'Total Wickets'}, title='Top 10 Bowlers by Total Wickets')\n",
    "\n",
    "# Define the app layout\n",
    "app.layout = dbc.Container([\n",
    "    dbc.Row([\n",
    "        dbc.Col(html.H1(\"IPL Analysis Dashboard\", className=\"text-center\"), className=\"mb-5 mt-5\")\n",
    "    ]),\n",
    "    dbc.Row([\n",
    "        dbc.Col(dcc.Graph(figure=fig_wins), width=6),\n",
    "        dbc.Col(dcc.Graph(figure=fig_player_of_match), width=6)\n",
    "    ]),\n",
    "    dbc.Row([\n",
    "        dbc.Col(dcc.Graph(figure=fig_toss_decision), width=6),\n",
    "        dbc.Col(dcc.Graph(figure=fig_batsmen), width=6)\n",
    "    ]),\n",
    "    dbc.Row([\n",
    "        dbc.Col(dcc.Graph(figure=fig_bowlers), width=6)\n",
    "    ])\n",
    "])\n",
    "\n",
    "if __name__ == '__main__':\n",
    "    app.run_server(debug=True, port=8051)\n"
   ]
  },
  {
   "cell_type": "code",
   "execution_count": null,
   "id": "a96f04d9",
   "metadata": {},
   "outputs": [],
   "source": []
  },
  {
   "cell_type": "code",
   "execution_count": null,
   "id": "b89e55a0",
   "metadata": {},
   "outputs": [],
   "source": []
  }
 ],
 "metadata": {
  "kernelspec": {
   "display_name": "Python 3 (ipykernel)",
   "language": "python",
   "name": "python3"
  },
  "language_info": {
   "codemirror_mode": {
    "name": "ipython",
    "version": 3
   },
   "file_extension": ".py",
   "mimetype": "text/x-python",
   "name": "python",
   "nbconvert_exporter": "python",
   "pygments_lexer": "ipython3",
   "version": "3.9.7"
  }
 },
 "nbformat": 4,
 "nbformat_minor": 5
}
